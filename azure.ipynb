{
 "cells": [
  {
   "cell_type": "code",
   "execution_count": 57,
   "id": "233a6ee3-2fae-44c5-bc15-b0a51051fcbc",
   "metadata": {},
   "outputs": [],
   "source": [
    "# id_to_subject = {\n",
    "#     1: \"toan\",\n",
    "#     2: \"van\",\n",
    "#     3: \"vatly\",\n",
    "#     4: \"hoa\",\n",
    "#     6: \"lichsu\",\n",
    "#     7: \"dialy\",\n",
    "#     8: \"sinhhoc\",\n",
    "#     9: \"congnghe\",\n",
    "#     10: \"gdcd\",\n",
    "#     14: \"tinhoc\",\n",
    "#     32: \"gdqp\",\n",
    "#     34: \"ktpl\",\n",
    "#     18: \"lichsudialy\",\n",
    "#     27: \"khoahoctunhien\"\n",
    "# }\n",
    "\n",
    "# stem = [\"congnghe\", \"hoa\", \"toan\", \"sinhhoc\", \"khoahoctunhien\", \"tinhoc\", \"vatly\"]\n",
    "\n",
    "# for s in id_to_subject.values():\n",
    "#     if s not in stem:\n",
    "#         print(s)"
   ]
  },
  {
   "cell_type": "code",
   "execution_count": null,
   "id": "d14f4058-d66f-47b1-a932-904e64891fc1",
   "metadata": {},
   "outputs": [],
   "source": []
  },
  {
   "cell_type": "code",
   "execution_count": 1,
   "id": "9be40dc6-c385-4873-80ff-2b50c12e2283",
   "metadata": {},
   "outputs": [],
   "source": [
    "REWRITE_ANSWER_TEMPLATE = \"\"\"\n",
    "Given a question and a corresponding answer, your task is to rewrite provided answer to format: first-reasoning-then-conclusion and make it more detail if necessary. \n",
    "Provide your rewritten answer in the ``` brackets.\n",
    "\n",
    "Example:\n",
    "Question: Ngành tài chính - ngân hàng không có đặc điểm nào sau đây?\n",
    "A. Tài chính ngân hàng là một lĩnh vực rất rộng và nhiều hoạt động.\n",
    "B. Nhu cầu của khách đa dạng, phong phú và thường có tính thời vụ.\n",
    "C. Sản phẩm thường được thực hiện theo các quy trình nghiêm ngặt.\n",
    "D. Gồm hai bộ phận khăng khít với nhau là tài chính và ngân hàng.\n",
    "\n",
    "Provided answer: Đáp án đúng là: B\n",
    "- Tài chính ngân hàng gồm hai bộ phận khăng khít với nhau là tài chính và ngân hàng.\n",
    "- Tài chính ngân hàng là một lĩnh vực rất rộng, bao gồm nhiều hoạt động.\n",
    "- Do tính rủi ro cao và có phản ứng dây chuyền trong hệ thống nên sản phẩm tài chính ngân hàng thường được thực hiện theo những quy trình nghiêm ngặt.\n",
    "\n",
    "Rewritten answer: ```\n",
    "Ngành tài chính - ngân hàng có những đặc điểm sau:\n",
    "- Bao gồm hai bộ phận liên kết chặt chẽ là tài chính và ngân hàng.\n",
    "- Là một lĩnh vực rất rộng, bao gồm nhiều hoạt động khác nhau.\n",
    "- Do tính rủi ro cao và có thể gây ra phản ứng dây chuyền trong hệ thống, các sản phẩm tài chính - ngân hàng thường được thực hiện theo các quy trình nghiêm ngặt.\n",
    "Trong khi đó, đáp án B cho rằng nhu cầu của khách hàng đa dạng, phong phú và thường có tính thời vụ. Tuy nhiên, nhu cầu của khách hàng trong lĩnh vực này không nhất thiết có tính thời vụ, mà thường ổn định và liên tục. Do đó, đáp án B không phải là đặc điểm của ngành tài chính - ngân hàng.\n",
    "\n",
    "Vì vậy, đáp án đúng là: B.\n",
    "```\n",
    "\n",
    "---\n",
    "Question: {question}\n",
    "\n",
    "Provided answer: {reason}\n",
    "\n",
    "Rewritten answer:\n",
    "\"\"\".strip()\n",
    "\n",
    "\n",
    "GEN_ANSWER_TEMPLATE = \"\"\"\n",
    "Provide a Vietnamese first-reasoning-then-conclusion answer for the following question. Return your final choice inside \\\\boxed{{}}.\n",
    "\n",
    "Example:\n",
    "Question: Ngành tài chính - ngân hàng không có đặc điểm nào sau đây?\n",
    "A. Tài chính ngân hàng là một lĩnh vực rất rộng và nhiều hoạt động.\n",
    "B. Nhu cầu của khách đa dạng, phong phú và thường có tính thời vụ.\n",
    "C. Sản phẩm thường được thực hiện theo các quy trình nghiêm ngặt.\n",
    "D. Gồm hai bộ phận khăng khít với nhau là tài chính và ngân hàng.\n",
    "\n",
    "Answer: Ngành tài chính - ngân hàng có những đặc điểm sau:\n",
    "- Bao gồm hai bộ phận liên kết chặt chẽ là tài chính và ngân hàng.\n",
    "- Là một lĩnh vực rất rộng, bao gồm nhiều hoạt động khác nhau.\n",
    "- Do tính rủi ro cao và có thể gây ra phản ứng dây chuyền trong hệ thống, các sản phẩm tài chính - ngân hàng thường được thực hiện theo các quy trình nghiêm ngặt.\n",
    "Trong khi đó, đáp án B cho rằng nhu cầu của khách hàng đa dạng, phong phú và thường có tính thời vụ. Tuy nhiên, nhu cầu của khách hàng trong lĩnh vực này không nhất thiết có tính thời vụ, mà thường ổn định và liên tục. Do đó, đáp án B không phải là đặc điểm của ngành tài chính - ngân hàng.\n",
    "\n",
    "Vì vậy, đáp án đúng là: \\\\boxed{{B}}\n",
    "\n",
    "---\n",
    "Question: {question}\n",
    "\n",
    "Answer:\n",
    "\"\"\""
   ]
  },
  {
   "cell_type": "code",
   "execution_count": 10,
   "id": "1ec9432c-98df-459d-85ff-aa272dd1ebaa",
   "metadata": {},
   "outputs": [],
   "source": [
    "from src.utils import read_jsonl, normalize_newline\n",
    "import string\n",
    "\n",
    "rm_questions = set()\n",
    "def format_prompt(sample: dict) -> str:\n",
    "    question: str = sample[\"question\"].strip()\n",
    "    choices: List[str] = sample[\"choices\"]\n",
    "    reason: str = sample[\"reason\"].strip()\n",
    "    for c in [c+\".\" for c in string.ascii_lowercase]+[c+\",\" for c in string.ascii_lowercase]+[c+\")\" for c in string.ascii_lowercase]:\n",
    "        if question.startswith(c):\n",
    "            rm_questions.add(question)\n",
    "            return \"\"\n",
    "    if len(reason)>1000 and not reason.strip().startswith(\"Đáp án\"):\n",
    "        return \"\"\n",
    "    is_multiple_choices = True\n",
    "    if not choices:\n",
    "        choices = []\n",
    "    for choice in choices+[sample[\"correct_choice\"]]:\n",
    "        if not choice:\n",
    "            is_multiple_choices = False\n",
    "            break\n",
    "\n",
    "    if len(reason.split())<20 and is_multiple_choices:\n",
    "        prompt = GEN_ANSWER_TEMPLATE.format(\n",
    "            question=normalize_newline(question)+\"\\n\"+\"\\n\".join(choices),\n",
    "        )\n",
    "    else:\n",
    "        if not is_multiple_choices:\n",
    "            choices = []\n",
    "        prompt = REWRITE_ANSWER_TEMPLATE.format(\n",
    "            question=normalize_newline(question)+\"\\n\"+\"\\n\".join(choices),\n",
    "            reason=normalize_newline(reason)\n",
    "        )\n",
    "    return prompt"
   ]
  },
  {
   "cell_type": "code",
   "execution_count": 3,
   "id": "58138359-f7ad-4883-a99f-80841ea3b698",
   "metadata": {},
   "outputs": [],
   "source": [
    "# import glob\n",
    "# from src.utils import read_jsonl\n",
    "\n",
    "# subject_list = [\n",
    "#     \"van\",\n",
    "#     \"lichsu\",\n",
    "#     \"dialy\",\n",
    "#     \"gdcd\",\n",
    "#     \"gdqp\",\n",
    "#     \"ktpl\",\n",
    "#     \"lichsudialy\"\n",
    "# ]\n",
    "\n",
    "\n",
    "# data = []\n",
    "# for filepath in glob.glob(\"./data/processed_questions/tailieumoi/*\"):\n",
    "#     # check if data belongs to the subject list or not\n",
    "#     flag = False\n",
    "#     for subject in subject_list:\n",
    "#         if subject in filepath:\n",
    "#             flag = True\n",
    "#             break\n",
    "#     if not flag or not filepath.endswith(\"jsonl\"):\n",
    "#         continue\n",
    "#     data.extend(read_jsonl(filepath))"
   ]
  },
  {
   "cell_type": "code",
   "execution_count": 4,
   "id": "b20a3617-d4ed-4f8a-b6a6-2bad3491d8b4",
   "metadata": {},
   "outputs": [],
   "source": [
    "import glob\n",
    "from src.utils import read_jsonl\n",
    "\n",
    "\n",
    "data = []\n",
    "for filepath in glob.glob(\"./data/processed_questions/vietjack/*\"):\n",
    "    data.extend(read_jsonl(filepath))"
   ]
  },
  {
   "cell_type": "code",
   "execution_count": 5,
   "id": "d9891734-e38e-41ab-95ab-8bad1296ba75",
   "metadata": {},
   "outputs": [
    {
     "data": {
      "text/plain": [
       "84815"
      ]
     },
     "execution_count": 5,
     "metadata": {},
     "output_type": "execute_result"
    }
   ],
   "source": [
    "len(data)"
   ]
  },
  {
   "cell_type": "code",
   "execution_count": 63,
   "id": "ff2cb924-5140-4d97-914b-692ee2b365d2",
   "metadata": {},
   "outputs": [],
   "source": [
    "import glob\n",
    "\n",
    "with open(\"prompt.jsonl\", \"w\",encoding='utf-8') as f:\n",
    "    pass\n",
    "for filepath in glob.glob(\"./data/processed_questions/vietjack/*\")[2:]:\n",
    "    data = read_jsonl(filepath)\n",
    "    filename = filepath.strip().split(\"/\")[-1][:-5]\n",
    "    with open(\"prompt.jsonl\", \"a\",encoding='utf-8') as f:\n",
    "        for idx, sample in enumerate(data):\n",
    "            prompt = format_prompt(sample)\n",
    "            if not prompt:\n",
    "                continue\n",
    "            f.write(json.dumps({\n",
    "                \"custom_id\": filename+\"_\"+str(idx),\n",
    "                \"method\": \"POST\",\n",
    "                \"url\": \"/chat/completions\",\n",
    "                \"body\": {\n",
    "                    \"model\": \"gpt-4o\",\n",
    "                    \"messages\":[\n",
    "                        {\n",
    "                            \"role\": \"user\",\n",
    "                            \"content\": format_prompt(sample)\n",
    "                        }\n",
    "                    ]\n",
    "                }\n",
    "            },ensure_ascii=False) +'\\n')"
   ]
  },
  {
   "cell_type": "code",
   "execution_count": 64,
   "id": "7cd5b8c5-e584-4b62-b959-1790a8f169ec",
   "metadata": {},
   "outputs": [
    {
     "data": {
      "text/plain": [
       "2"
      ]
     },
     "execution_count": 64,
     "metadata": {},
     "output_type": "execute_result"
    }
   ],
   "source": [
    "len(rm_questions)"
   ]
  },
  {
   "cell_type": "code",
   "execution_count": 65,
   "id": "6ca1c2d8-98f2-42a1-9ee7-22089df1a66a",
   "metadata": {},
   "outputs": [
    {
     "name": "stdout",
     "output_type": "stream",
     "text": [
      "44989 prompt.jsonl\n"
     ]
    }
   ],
   "source": [
    "!wc -l prompt.jsonl"
   ]
  },
  {
   "cell_type": "code",
   "execution_count": null,
   "id": "67fcb07e-6aa0-4b45-985c-c3bcb8d6d322",
   "metadata": {},
   "outputs": [],
   "source": [
    "from openai import AzureOpenAI\n",
    "client = AzureOpenAI(\n",
    "    api_key=\"<your api key>\",  \n",
    "    api_version=\" \",\n",
    "    azure_endpoint = \"<your azure endpoint>\",\n",
    ")"
   ]
  },
  {
   "cell_type": "code",
   "execution_count": 66,
   "id": "f1f7f13d-612f-4962-809a-da0df57f4271",
   "metadata": {},
   "outputs": [
    {
     "name": "stdout",
     "output_type": "stream",
     "text": [
      "{\n",
      "  \"id\": \"file-bbddf0ec5e3f4293a9fb7ab6f850aa4a\",\n",
      "  \"bytes\": 91492597,\n",
      "  \"created_at\": 1739019067,\n",
      "  \"filename\": \"prompt.jsonl\",\n",
      "  \"object\": \"file\",\n",
      "  \"purpose\": \"batch\",\n",
      "  \"status\": \"processed\",\n",
      "  \"status_details\": null\n",
      "}\n"
     ]
    }
   ],
   "source": [
    "# Upload a file with a purpose of \"batch\"\n",
    "file = client.files.create(\n",
    "  file=open(\"prompt.jsonl\", \"rb\"), \n",
    "  purpose=\"batch\"\n",
    ")\n",
    "\n",
    "print(file.model_dump_json(indent=2))\n",
    "file_id = file.id"
   ]
  },
  {
   "cell_type": "code",
   "execution_count": 67,
   "id": "11f7ee83-ef80-4550-98dc-97c2e83e12cf",
   "metadata": {},
   "outputs": [],
   "source": [
    "# Submit a batch job with the file\n",
    "batch_response = client.batches.create(\n",
    "    input_file_id=file_id,\n",
    "    endpoint=\"/chat/completions\",\n",
    "    completion_window=\"30m\",\n",
    ")"
   ]
  },
  {
   "cell_type": "code",
   "execution_count": 68,
   "id": "b455b279-7c47-466b-8b58-868d596ece7e",
   "metadata": {
    "scrolled": true
   },
   "outputs": [
    {
     "name": "stdout",
     "output_type": "stream",
     "text": [
      "{\n",
      "  \"id\": \"batch_b96ba361-3e2b-4e92-88bf-39a43fe6d24a\",\n",
      "  \"completion_window\": \"30m\",\n",
      "  \"created_at\": 1739019080,\n",
      "  \"endpoint\": \"/chat/completions\",\n",
      "  \"input_file_id\": \"file-bbddf0ec5e3f4293a9fb7ab6f850aa4a\",\n",
      "  \"object\": \"batch\",\n",
      "  \"status\": \"validating\",\n",
      "  \"cancelled_at\": null,\n",
      "  \"cancelling_at\": null,\n",
      "  \"completed_at\": null,\n",
      "  \"error_file_id\": \"\",\n",
      "  \"errors\": null,\n",
      "  \"expired_at\": null,\n",
      "  \"expires_at\": 1739105480,\n",
      "  \"failed_at\": null,\n",
      "  \"finalizing_at\": null,\n",
      "  \"in_progress_at\": null,\n",
      "  \"metadata\": null,\n",
      "  \"output_file_id\": \"\",\n",
      "  \"request_counts\": {\n",
      "    \"completed\": 0,\n",
      "    \"failed\": 0,\n",
      "    \"total\": 0\n",
      "  }\n",
      "}\n"
     ]
    }
   ],
   "source": [
    "# Save batch ID for later use\n",
    "batch_id = batch_response.id\n",
    "\n",
    "print(batch_response.model_dump_json(indent=2))"
   ]
  },
  {
   "cell_type": "code",
   "execution_count": 69,
   "id": "67fecf78-6d85-4ff3-87ce-f1d4d2246be4",
   "metadata": {},
   "outputs": [
    {
     "name": "stdout",
     "output_type": "stream",
     "text": [
      "2025-02-08 12:48:32.713329 Batch Id: batch_b96ba361-3e2b-4e92-88bf-39a43fe6d24a,  Status: in_progress\n",
      "2025-02-08 12:53:33.346531 Batch Id: batch_b96ba361-3e2b-4e92-88bf-39a43fe6d24a,  Status: in_progress\n",
      "2025-02-08 12:58:33.980748 Batch Id: batch_b96ba361-3e2b-4e92-88bf-39a43fe6d24a,  Status: in_progress\n",
      "2025-02-08 13:03:34.623313 Batch Id: batch_b96ba361-3e2b-4e92-88bf-39a43fe6d24a,  Status: completed\n"
     ]
    }
   ],
   "source": [
    "import time\n",
    "import datetime \n",
    "\n",
    "status = \"validating\"\n",
    "while status not in (\"completed\", \"failed\", \"canceled\"):\n",
    "    time.sleep(300)\n",
    "    batch_response = client.batches.retrieve(batch_id)\n",
    "    status = batch_response.status\n",
    "    print(f\"{datetime.datetime.now()} Batch Id: {batch_id},  Status: {status}\")\n",
    "\n",
    "if batch_response.status == \"failed\":\n",
    "    for error in batch_response.errors.data:  \n",
    "        print(f\"Error code {error.code} Message {error.message}\")"
   ]
  },
  {
   "cell_type": "code",
   "execution_count": 87,
   "id": "57f40419-6e4b-4e2f-85a7-ce1b9bffbdae",
   "metadata": {},
   "outputs": [],
   "source": [
    "# data[241]"
   ]
  },
  {
   "cell_type": "code",
   "execution_count": 88,
   "id": "de42a14c-3b1c-4955-85f8-bdbc7fe2144d",
   "metadata": {},
   "outputs": [],
   "source": [
    "# print(json.loads(raw_responses[466])['response']['body']['choices'][0]['message'][\"content\"])"
   ]
  },
  {
   "cell_type": "code",
   "execution_count": 89,
   "id": "d3f56d44-c2a5-4793-8942-e7ccde9ce594",
   "metadata": {},
   "outputs": [],
   "source": [
    "# raw_responses[466]"
   ]
  },
  {
   "cell_type": "code",
   "execution_count": 70,
   "id": "072b9566-aa8a-4ff4-95c5-6401c7a57dc1",
   "metadata": {},
   "outputs": [],
   "source": [
    "import json\n",
    "\n",
    "output_file_id = batch_response.output_file_id\n",
    "\n",
    "if not output_file_id:\n",
    "    output_file_id = batch_response.error_file_id\n",
    "\n",
    "if output_file_id:\n",
    "    file_response = client.files.content(output_file_id)\n",
    "    raw_responses = file_response.text.strip().split('\\n') "
   ]
  },
  {
   "cell_type": "code",
   "execution_count": 71,
   "id": "aead0f53-5b7c-4582-a8a3-2f8ebd8f3105",
   "metadata": {},
   "outputs": [
    {
     "data": {
      "text/plain": [
       "'{\"custom_id\": \"daihoc_1_questions._71\", \"response\": {\"body\": {\"choices\": [{\"content_filter_results\": {\"hate\": {\"filtered\": false, \"severity\": \"safe\"}, \"protected_material_code\": {\"filtered\": false, \"detected\": false}, \"protected_material_text\": {\"filtered\": false, \"detected\": false}, \"self_harm\": {\"filtered\": false, \"severity\": \"safe\"}, \"sexual\": {\"filtered\": false, \"severity\": \"safe\"}, \"violence\": {\"filtered\": false, \"severity\": \"safe\"}}, \"finish_reason\": \"stop\", \"index\": 0, \"logprobs\": null, \"message\": {\"content\": \"Kế hoạch sản xuất là quá trình xác định các bước cụ thể để tổ chức, quản lý và triển khai hoạt động sản xuất. Trong khi đó, kế hoạch tiếp thị và kế hoạch bán hàng là những khía cạnh liên quan đến việc quản lý mối quan hệ với khách hàng và thúc đẩy sản phẩm trên thị trường. Kế hoạch vay vốn thuộc lĩnh vực tài chính doanh nghiệp và không liên quan trực tiếp đến việc sản xuất. \\\\n\\\\nDo đó, không có lựa chọn nào trong các đáp án A, B, hoặc C thuộc về kế hoạch sản xuất. Vì vậy, đáp án đúng là: \\\\\\\\boxed{D}\", \"refusal\": null, \"role\": \"assistant\"}}], \"created\": 1739019315, \"id\": \"chatcmpl-AyeeZZ9Euy4AoMopqVSlcv3dGShoo\", \"model\": \"gpt-4o-2024-11-20\", \"object\": \"chat.completion\", \"prompt_filter_results\": [{\"prompt_index\": 0, \"content_filter_results\": {\"hate\": {\"filtered\": false, \"severity\": \"safe\"}, \"jailbreak\": {\"filtered\": false, \"detected\": false}, \"self_harm\": {\"filtered\": false, \"severity\": \"safe\"}, \"sexual\": {\"filtered\": false, \"severity\": \"safe\"}, \"violence\": {\"filtered\": false, \"severity\": \"safe\"}}}], \"system_fingerprint\": \"fp_f3927aa00d\", \"usage\": {\"completion_tokens\": 131, \"completion_tokens_details\": {\"accepted_prediction_tokens\": 0, \"audio_tokens\": 0, \"reasoning_tokens\": 0, \"rejected_prediction_tokens\": 0}, \"prompt_tokens\": 357, \"prompt_tokens_details\": {\"audio_tokens\": 0, \"cached_tokens\": 0}, \"total_tokens\": 488}}, \"request_id\": \"10fd75e9-7825-444d-b8e2-3f068d641687\", \"status_code\": 200}, \"error\": null}'"
      ]
     },
     "execution_count": 71,
     "metadata": {},
     "output_type": "execute_result"
    }
   ],
   "source": [
    "raw_responses[0]"
   ]
  },
  {
   "cell_type": "code",
   "execution_count": 72,
   "id": "196878ac-8d55-4afe-a85f-087c20d88ccb",
   "metadata": {},
   "outputs": [
    {
     "name": "stderr",
     "output_type": "stream",
     "text": [
      "100%|██████████| 44989/44989 [00:00<00:00, 57233.35it/s]\n"
     ]
    }
   ],
   "source": [
    "import json\n",
    "from tqdm import tqdm\n",
    "\n",
    "\n",
    "generate_data = dict()\n",
    "\n",
    "for raw_resp in tqdm(raw_responses):\n",
    "    try:\n",
    "        resp = json.loads(raw_resp)\n",
    "        full_reason = resp['response']['body']['choices'][0]['message'][\"content\"]\n",
    "        if full_reason:\n",
    "            generate_data[resp[\"custom_id\"]] = full_reason \n",
    "    except:\n",
    "        continue"
   ]
  },
  {
   "cell_type": "code",
   "execution_count": 73,
   "id": "5a4031aa-ced7-4dfd-b181-fcb72b2c1e05",
   "metadata": {},
   "outputs": [
    {
     "data": {
      "text/plain": [
       "44980"
      ]
     },
     "execution_count": 73,
     "metadata": {},
     "output_type": "execute_result"
    }
   ],
   "source": [
    "len(generate_data)"
   ]
  },
  {
   "cell_type": "code",
   "execution_count": 74,
   "id": "1a481420-eb57-4af0-bc89-32180d703418",
   "metadata": {},
   "outputs": [],
   "source": [
    "import re\n",
    "\n",
    "PRED_CHOICE_PATTERN = re.compile(r\"\\\\boxed{(.+)}\", flags=re.I)\n",
    "\n",
    "\n",
    "original_data = []\n",
    "for filepath in glob.glob(\"./data/processed_questions/vietjack/*\")[2:]:\n",
    "    data = read_jsonl(filepath)\n",
    "    filename = filepath.strip().split(\"/\")[-1][:-5]\n",
    "    for idx, sample in enumerate(data):\n",
    "        prompt = format_prompt(sample)\n",
    "        if not prompt:\n",
    "            continue\n",
    "        is_multiple_choices = True\n",
    "        if not sample[\"choices\"]:\n",
    "            continue\n",
    "        for choice in sample[\"choices\"]+[sample[\"correct_choice\"]]:\n",
    "            if not choice:\n",
    "                is_multiple_choices = False\n",
    "                break\n",
    "        if len(sample[\"reason\"].split())>=20 or not is_multiple_choices:\n",
    "            continue\n",
    "        try:\n",
    "            full_reason = generate_data[filename+\"_\"+str(idx)]\n",
    "            pred_choice = PRED_CHOICE_PATTERN.findall(full_reason)[-1]\n",
    "            if pred_choice.strip().lower()[0]==sample[\"correct_choice\"].strip().lower()[0]:\n",
    "                full_reason = re.sub(r\"\\\\boxed{(.+)}\", r\"\\1\", full_reason)\n",
    "            else:\n",
    "                continue\n",
    "            sample[\"full_reason\"] = full_reason\n",
    "            original_data.append(sample)\n",
    "        except:\n",
    "            continue"
   ]
  },
  {
   "cell_type": "code",
   "execution_count": 75,
   "id": "127a7119-ea9c-4a07-9b30-04729926f425",
   "metadata": {},
   "outputs": [
    {
     "data": {
      "text/plain": [
       "32076"
      ]
     },
     "execution_count": 75,
     "metadata": {},
     "output_type": "execute_result"
    }
   ],
   "source": [
    "len(original_data)"
   ]
  },
  {
   "cell_type": "code",
   "execution_count": 76,
   "id": "c26d6297-863f-4a20-8887-78462f1821d5",
   "metadata": {},
   "outputs": [],
   "source": [
    "from random import choice"
   ]
  },
  {
   "cell_type": "code",
   "execution_count": 77,
   "id": "4129e106-776c-4290-a7d2-f0471f9fcf14",
   "metadata": {},
   "outputs": [
    {
     "data": {
      "text/plain": [
       "{'url': 'https://khoahoc.vietjack.com/question/1548175/tu-tuong-ho-chi-minh-duoc-hinh-thanh-tu-co-so-nao',\n",
       " 'question': 'Tư tưởng Hồ Chí Minh được hình thành từ cơ sở nào?',\n",
       " 'choices': ['A. Phong trào cộng sản và công nhân thế giới',\n",
       "  'B. Phong trào đấu tranh vì dân sinh, dân chủ, cơm áo hòa bình',\n",
       "  'C. Phong trào giải phóng dân tộc thuộc địa',\n",
       "  'D. Giá trị truyền thống dân tộc Việt Nam'],\n",
       " 'correct_choice': 'D. Giá trị truyền thống dân tộc Việt Nam',\n",
       " 'reason': 'Chọn đáp án D',\n",
       " 'full_reason': 'Tư tưởng Hồ Chí Minh được hình thành từ nhiều cơ sở khác nhau.  \\n- *Thứ nhất*, giá trị truyền thống dân tộc Việt Nam là cơ sở nền tảng. Những giá trị như yêu nước, đoàn kết, nhân văn, kiên cường bất khuất đã thấm nhuần trong tư duy và tinh thần của Hồ Chí Minh từ khi còn nhỏ.  \\n- *Thứ hai*, phong trào giải phóng dân tộc thuộc địa cũng đóng vai trò quan trọng. Trong bối cảnh thế giới lúc bấy giờ, làn sóng đấu tranh giành độc lập của các dân tộc thuộc địa nổi lên mạnh mẽ, ảnh hưởng sâu sắc đến tư tưởng của Hồ Chí Minh.  \\n- *Thứ ba*, phong trào cộng sản và công nhân thế giới đã cung cấp cơ sở lý luận, đặc biệt qua việc Hồ Chí Minh tiếp thu tư tưởng Marx - Lenin, đưa ra con đường cách mạng vô sản cho dân tộc.  \\n- *Thứ tư*, phong trào đấu tranh vì dân sinh, dân chủ, cơm áo, hòa bình cũng là một yếu tố thúc đẩy. Tuy nhiên, phong trào này có tính chất cụ thể và bổ sung, chứ không mang tính chất nền tảng hoặc quyết định cho tư tưởng Hồ Chí Minh.\\n\\nKết hợp các phân tích trên, cơ sở hình thành tư tưởng Hồ Chí Minh không chỉ đến từ một yếu tố mà hội tụ từ nhiều cơ sở. Tuy nhiên, cơ sở mang tính cốt lõi và bao trùm là \"giá trị truyền thống dân tộc Việt Nam\".\\n\\nVì vậy, đáp án đúng là: D'}"
      ]
     },
     "execution_count": 77,
     "metadata": {},
     "output_type": "execute_result"
    }
   ],
   "source": [
    "choice(original_data)"
   ]
  },
  {
   "cell_type": "code",
   "execution_count": 85,
   "id": "c6615828-5078-4ca1-b151-18b9fba41ffe",
   "metadata": {},
   "outputs": [],
   "source": [
    "import json\n",
    "import re\n",
    "import pandoc\n",
    "from bs4 import BeautifulSoup\n",
    "\n",
    "\n",
    "def read_jsonl(filepath: str):\n",
    "    data = []\n",
    "    with open(filepath) as f:\n",
    "        for line in f:\n",
    "            data.append(json.loads(line))\n",
    "    return data\n",
    "\n",
    "\n",
    "REMOVED_TAG = [\"div\", \"label\", re.compile(r\"h\\d+\"), \"strong\", \"span\", \"a\"]\n",
    "def remove_tag_from_text(text: str) -> str:\n",
    "    soup = BeautifulSoup(text, \"html.parser\")\n",
    "    for tag in REMOVED_TAG:\n",
    "        for e in soup.find_all(tag):\n",
    "            e.unwrap()\n",
    "    return soup.prettify()\n",
    "\n",
    "\n",
    "def normalize_pandoc_output(text: str) -> str:\n",
    "    return re.sub(r\"\\\\([^\\w\\s]+?)\", r\"\\1\", text)\n",
    "\n",
    "\n",
    "def convert_html_to_md(text: str) -> str:\n",
    "    in_doc = pandoc.read(text, format=\"html\")\n",
    "    out_doc = pandoc.write(in_doc, format=\"markdown\", options=[\"--no-highlight\"]).strip()\n",
    "    return normalize_pandoc_output(out_doc)\n",
    "\n",
    "\n",
    "VNESE_CHAR = \"bĩfáổoằìỷếnắqeẩdlwêăọậặụyèấũảxưéủẵỗúỳaâíộợãjẳơữểồàạễốừùzirựcóớđẽẫumõửỡỏỹỉhởầòềpỵịvsứôệtẻẹgờký\"\n",
    "def normalize_newline(text):\n",
    "    \"\"\"\n",
    "    Normalize text by replacing:\n",
    "    - Single '\\n' with ' '\n",
    "    - Two or more consecutive '\\n' with a single '\\n'\n",
    "    \n",
    "    Args:\n",
    "        text (str): Input text to normalize\n",
    "    \n",
    "    Returns:\n",
    "        str: Normalized text\n",
    "    \"\"\"\n",
    "    # Replace multiple consecutive newlines with a single newline\n",
    "    text = re.sub(r'\\n{2,}', '<---newline--->', text)\n",
    "    \n",
    "    # Replace single newlines with a space\n",
    "    text = re.sub(r'[{}\\d](\\n)[{}\\d]'.format(VNESE_CHAR, VNESE_CHAR), '', text)\n",
    "    text = text.replace('<---newline--->', '\\n')\n",
    "    \n",
    "    return text.strip()"
   ]
  },
  {
   "cell_type": "code",
   "execution_count": 86,
   "id": "827b25be-385e-4fb7-9fc7-4e4dce4f7e8d",
   "metadata": {},
   "outputs": [],
   "source": [
    "import re\n",
    "import string\n",
    "\n",
    "FULL_REASON_PATTERN = re.compile(r\"\\`\\`\\`([\\s\\S]+?)\\`\\`\\`\")\n",
    "\n",
    "\n",
    "def final_process_str(s: str):\n",
    "    if \"</table>\" in s:\n",
    "        s = convert_html_to_md(s)\n",
    "    s = normalize_newline(s).strip()\n",
    "    return s\n",
    "\n",
    "\n",
    "def final_process_sample(s: dict):\n",
    "    if not isinstance(s, dict):\n",
    "        return None\n",
    "    if not s[\"question\"]:\n",
    "        return None\n",
    "    s[\"question\"] = final_process_str(s[\"question\"])\n",
    "    for c in [c+\".\" for c in string.ascii_lowercase]+[c+\",\" for c in string.ascii_lowercase]+[c+\")\" for c in string.ascii_lowercase]:\n",
    "        if s[\"question\"].startswith(c):\n",
    "            return None\n",
    "    normalized_choices = []\n",
    "    for choice in s[\"choices\"]:\n",
    "        if not choice:\n",
    "            continue\n",
    "        normalized_choices.append(final_process_str(choice))\n",
    "    s[\"choices\"] = normalized_choices\n",
    "    s[\"choices\"] = sorted(s[\"choices\"], key=lambda x: x[0]) \n",
    "    if s[\"correct_choice\"]:\n",
    "        s[\"correct_choice\"] = final_process_str(s[\"correct_choice\"])\n",
    "    s[\"reason\"] = final_process_str(s[\"reason\"])\n",
    "    if s[\"full_reason\"]==\"\":\n",
    "        if len(reason)>1000 and not reason.strip().startswith(\"Đáp án\"):\n",
    "            s[\"full_reason\"] = s[\"reason\"]\n",
    "        else:\n",
    "            return None\n",
    "    else:\n",
    "        s[\"full_reason\"] = final_process_str(s[\"full_reason\"])\n",
    "    if len(s[\"full_reason\"])>10000:\n",
    "        return None\n",
    "    return s"
   ]
  },
  {
   "cell_type": "code",
   "execution_count": 87,
   "id": "f66398d9-43f5-4288-8796-21739800f7a4",
   "metadata": {},
   "outputs": [
    {
     "name": "stderr",
     "output_type": "stream",
     "text": [
      "100%|██████████| 32076/32076 [00:02<00:00, 15747.68it/s]\n"
     ]
    }
   ],
   "source": [
    "from tqdm import tqdm\n",
    "\n",
    "final_data = []\n",
    "for s in tqdm(original_data):\n",
    "    s = final_process_sample(s)\n",
    "    if s:\n",
    "        final_data.append(s)"
   ]
  },
  {
   "cell_type": "code",
   "execution_count": 88,
   "id": "3019a39a-f65d-42b5-b676-72d2969282cc",
   "metadata": {},
   "outputs": [
    {
     "data": {
      "text/plain": [
       "32070"
      ]
     },
     "execution_count": 88,
     "metadata": {},
     "output_type": "execute_result"
    }
   ],
   "source": [
    "len(final_data)"
   ]
  },
  {
   "cell_type": "code",
   "execution_count": 92,
   "id": "9d84f5f5-0024-4cd7-9ee4-871fbdb5c32e",
   "metadata": {},
   "outputs": [
    {
     "data": {
      "text/plain": [
       "{'url': 'https://khoahoc.vietjack.com/question/1054102/cap-hanh-chinh-thap-nhat-o-nuoc-ta-hien-nay-la-cap',\n",
       " 'question': 'Cấp hành chính thấp nhất ở nước ta hiện nay là cấp:',\n",
       " 'choices': ['A. Tỉnh', 'B. Huyện', 'C. Xã', 'D. Ấp'],\n",
       " 'correct_choice': 'C. Xã',\n",
       " 'reason': 'Chọn đáp án C',\n",
       " 'full_reason': 'Cấp hành chính ở Việt Nam hiện nay được phân chia thành ba cấp: cấp tỉnh, cấp huyện, và cấp xã. Trong đó:\\n- **Cấp tỉnh**: Bao gồm các đơn vị hành chính như thành phố trực thuộc trung ương, tỉnh.\\n- **Cấp huyện**: Bao gồm các quận, huyện, thành phố thuộc tỉnh và thị xã.\\n- **Cấp xã**: Bao gồm xã, phường, thị trấn. Đây là cấp hành chính thấp nhất trong hệ thống phân cấp hành chính của Việt Nam.\\nĐáp án D (ấp) không phải là một đơn vị hành chính chính thức, mà là tên gọi các khu vực nhỏ trong xã hoặc phường ở một số địa phương nhất định.\\nVì vậy, cấp hành chính thấp nhất ở nước ta hiện nay là cấp **xã**.\\nDo đó, đáp án đúng là: C'}"
      ]
     },
     "execution_count": 92,
     "metadata": {},
     "output_type": "execute_result"
    }
   ],
   "source": [
    "choice(final_data)"
   ]
  },
  {
   "cell_type": "code",
   "execution_count": 96,
   "id": "d7d92cb6-a8ff-41de-aa04-745f42c3a28b",
   "metadata": {},
   "outputs": [],
   "source": [
    "import json\n",
    "with open(\"./university_2_chatml_32k.jsonl\", \"w\") as f:\n",
    "    for s in final_data:\n",
    "        question = s[\"question\"]\n",
    "        if s[\"choices\"]:\n",
    "            question += \"\\n\"+\"\\n\".join(s[\"choices\"])\n",
    "        answer = s[\"full_reason\"]\n",
    "        s[\"messages\"] = [\n",
    "            {\"role\": \"user\", \"content\": question},\n",
    "            {\"role\": \"assistant\", \"content\": answer}\n",
    "        ]\n",
    "        f.write(json.dumps(s, ensure_ascii=False)+\"\\n\")"
   ]
  },
  {
   "cell_type": "code",
   "execution_count": 94,
   "id": "55a5aec5-6450-46e3-8729-7484efa3f079",
   "metadata": {},
   "outputs": [],
   "source": [
    "tmp = read_jsonl(\"./data/extended_questions/final_data/university_1_chatml_28k.jsonl\")"
   ]
  },
  {
   "cell_type": "code",
   "execution_count": 97,
   "id": "f5b6a335-f3cc-40e6-b58f-3cc95dc8f3e1",
   "metadata": {},
   "outputs": [],
   "source": [
    "import json\n",
    "with open(\"./university_1_chatml_28k.jsonl\", \"w\") as f:\n",
    "    for s in tmp:\n",
    "        question = s[\"question\"]\n",
    "        if s[\"choices\"]:\n",
    "            s[\"choices\"] = sorted(s[\"choices\"], key=lambda x: x[0]) \n",
    "            question += \"\\n\"+\"\\n\".join(s[\"choices\"])\n",
    "        answer = s[\"full_reason\"]\n",
    "        s[\"messages\"] = [\n",
    "            {\"role\": \"user\", \"content\": question},\n",
    "            {\"role\": \"assistant\", \"content\": answer}\n",
    "        ]\n",
    "        f.write(json.dumps(s, ensure_ascii=False)+\"\\n\")"
   ]
  },
  {
   "cell_type": "code",
   "execution_count": 98,
   "id": "62fa68f9-4299-48a5-b36c-8e5330927fd4",
   "metadata": {},
   "outputs": [],
   "source": [
    "tmp1 = read_jsonl(\"./university_1_chatml_28k.jsonl\")"
   ]
  },
  {
   "cell_type": "code",
   "execution_count": 99,
   "id": "4e3517f4-56fa-4947-bf64-2af55d9f7408",
   "metadata": {},
   "outputs": [
    {
     "data": {
      "text/plain": [
       "{'url': 'https://khoahoc.vietjack.com/question/1523620/khi-su-dung-cac-cong-thuc-tinh-co-mau-phai-dua-vao-mot-trong-thong-so',\n",
       " 'question': 'Khi sử dụng các công thức tính cỡ mẫu phải dựa vào một trong thông sưới đây:',\n",
       " 'choices': ['A.Mức ý nghĩa thống kê cần thiết để đạt được một kết quả dự đoán',\n",
       "  'B.Kích thước của quần thể nghiên cứu',\n",
       "  'C.Liên quan giữa các biến số',\n",
       "  'D.Sự chính xác của kỹ thuật đo lường',\n",
       "  'E.Khoảng biến thiên của biến số cần đo lường trong quần thế đích'],\n",
       " 'correct_choice': 'A.Mức ý nghĩa thống kê cần thiết để đạt được một kết quả dự đoán',\n",
       " 'reason': 'Chọn đáp án a',\n",
       " 'full_reason': 'Để trả lời câu hỏi này, trước tiên chúng ta cần xem xét các yếu tố chính khi sử dụng các công thức để tính cỡ mẫu trong nghiên cứu:\\n1. **Kích thước quần thể nghiên cứu:** Kích thước quần thể không phải là yếu tố cốt lõi để tính cỡ mẫu trong hầu hết các nghiên cứu, đặc biệt khi quần thể có kích thước lớn (n>N) hoặc mang tính vô hạn.\\n2. **Liên quan giữa các biến số:** Yếu tố này không ảnh hưởng trực tiếp đến việc tính toán cỡ mẫu. Nó chủ yếu được quan tâm trong giai đoạn phân tích dữ liệu.\\n3. **Sự chính xác của kỹ thuật đo lường:** Độ chính xác của công cụ đo lường có thể ảnh hưởng đến dữ liệu thu thập, nhưng không phải là yếu tố trực tiếp trong việc xác định cỡ mẫu.\\n4. **Khoảng biến thiên của biến số trong quần thể đích:** Đây là một yếu tố quan trọng vì nó phản ánh sự phân tán của dữ liệu, từ đó ảnh hưởng đến mức độ sai số chọn mẫu.\\n5. **Mức ý nghĩa thống kê cần thiết:** Mức ý nghĩa thống kê (ví dụ như α = 0,05) và độ tin cậy đóng vai trò quan trọng để xác định cỡ mẫu vì nó liên quan đến khả năng bác bỏ một giả thuyết khi giả thuyết đó là sai.\\nKhi phân tích các phương án, ta thấy rằng:\\n- Phương án A (Mức ý nghĩa thống kê cần thiết): Đúng, vì đây là yếu tố ảnh hưởng trực tiếp đến việc xác định cỡ mẫu.\\n- Phương án B (Kích thước quần thể nghiên cứu): Không phải lúc nào cũng chính xác vì có thể quần thể rất lớn, thậm chí vô hạn.\\n- Phương án C (Liên quan giữa các biến số): Không phải là yếu tố để tính toán cỡ mẫu.\\n- Phương án D (Sự chính xác của kỹ thuật đo lường): Không phải yếu tố chính.\\n- Phương án E (Khoảng biến thiên của biến số trong quần thể mục tiêu): Đúng, vì ảnh hưởng đáng kể đến việc ước lượng độ chính xác.\\nKết luận: Hai yếu tố quan trọng nhất là \"Mức ý nghĩa thống kê cần thiết\" (phương án A) và \"Khoảng biến thiên của biến số trong quần thể đích\" (phương án E). Tuy nhiên, câu hỏi chỉ yêu cầu chọn một yếu tố. Vì vậy, đáp án phù hợp hơn cả là **\"Mức ý nghĩa thống kê cần thiết để đạt được một kết quả dự đoán\"**.\\nVì vậy, đáp án đúng là: A',\n",
       " 'messages': [{'role': 'user',\n",
       "   'content': 'Khi sử dụng các công thức tính cỡ mẫu phải dựa vào một trong thông sưới đây:\\nA.Mức ý nghĩa thống kê cần thiết để đạt được một kết quả dự đoán\\nB.Kích thước của quần thể nghiên cứu\\nC.Liên quan giữa các biến số\\nD.Sự chính xác của kỹ thuật đo lường\\nE.Khoảng biến thiên của biến số cần đo lường trong quần thế đích'},\n",
       "  {'role': 'assistant',\n",
       "   'content': 'Để trả lời câu hỏi này, trước tiên chúng ta cần xem xét các yếu tố chính khi sử dụng các công thức để tính cỡ mẫu trong nghiên cứu:\\n1. **Kích thước quần thể nghiên cứu:** Kích thước quần thể không phải là yếu tố cốt lõi để tính cỡ mẫu trong hầu hết các nghiên cứu, đặc biệt khi quần thể có kích thước lớn (n>N) hoặc mang tính vô hạn.\\n2. **Liên quan giữa các biến số:** Yếu tố này không ảnh hưởng trực tiếp đến việc tính toán cỡ mẫu. Nó chủ yếu được quan tâm trong giai đoạn phân tích dữ liệu.\\n3. **Sự chính xác của kỹ thuật đo lường:** Độ chính xác của công cụ đo lường có thể ảnh hưởng đến dữ liệu thu thập, nhưng không phải là yếu tố trực tiếp trong việc xác định cỡ mẫu.\\n4. **Khoảng biến thiên của biến số trong quần thể đích:** Đây là một yếu tố quan trọng vì nó phản ánh sự phân tán của dữ liệu, từ đó ảnh hưởng đến mức độ sai số chọn mẫu.\\n5. **Mức ý nghĩa thống kê cần thiết:** Mức ý nghĩa thống kê (ví dụ như α = 0,05) và độ tin cậy đóng vai trò quan trọng để xác định cỡ mẫu vì nó liên quan đến khả năng bác bỏ một giả thuyết khi giả thuyết đó là sai.\\nKhi phân tích các phương án, ta thấy rằng:\\n- Phương án A (Mức ý nghĩa thống kê cần thiết): Đúng, vì đây là yếu tố ảnh hưởng trực tiếp đến việc xác định cỡ mẫu.\\n- Phương án B (Kích thước quần thể nghiên cứu): Không phải lúc nào cũng chính xác vì có thể quần thể rất lớn, thậm chí vô hạn.\\n- Phương án C (Liên quan giữa các biến số): Không phải là yếu tố để tính toán cỡ mẫu.\\n- Phương án D (Sự chính xác của kỹ thuật đo lường): Không phải yếu tố chính.\\n- Phương án E (Khoảng biến thiên của biến số trong quần thể mục tiêu): Đúng, vì ảnh hưởng đáng kể đến việc ước lượng độ chính xác.\\nKết luận: Hai yếu tố quan trọng nhất là \"Mức ý nghĩa thống kê cần thiết\" (phương án A) và \"Khoảng biến thiên của biến số trong quần thể đích\" (phương án E). Tuy nhiên, câu hỏi chỉ yêu cầu chọn một yếu tố. Vì vậy, đáp án phù hợp hơn cả là **\"Mức ý nghĩa thống kê cần thiết để đạt được một kết quả dự đoán\"**.\\nVì vậy, đáp án đúng là: A'}]}"
      ]
     },
     "execution_count": 99,
     "metadata": {},
     "output_type": "execute_result"
    }
   ],
   "source": [
    "tmp1[0]"
   ]
  },
  {
   "cell_type": "code",
   "execution_count": null,
   "id": "7fee64be-6b56-421c-b897-eadcd617ec78",
   "metadata": {},
   "outputs": [],
   "source": []
  },
  {
   "cell_type": "code",
   "execution_count": null,
   "id": "48387a98-8310-44b1-871a-b5083a65fc7a",
   "metadata": {},
   "outputs": [],
   "source": []
  },
  {
   "cell_type": "code",
   "execution_count": null,
   "id": "e1f009a1-6786-487d-93e8-1b3d804bb1e3",
   "metadata": {},
   "outputs": [],
   "source": []
  },
  {
   "cell_type": "code",
   "execution_count": 90,
   "id": "f4ddb2e0-9fd6-42a7-ac62-da395bcb2f7f",
   "metadata": {},
   "outputs": [],
   "source": [
    "import json\n",
    "\n",
    "output_file_id = batch_response.output_file_id\n",
    "\n",
    "if not output_file_id:\n",
    "    output_file_id = batch_response.error_file_id\n",
    "\n",
    "if output_file_id:\n",
    "    file_response = client.files.content(output_file_id)\n",
    "    raw_responses = file_response.text.strip().split('\\n')  \n",
    "    with open(\"output_4o_3k.jsonl\",\"w\", encoding='utf-8') as f:\n",
    "        for raw_response in raw_responses:  \n",
    "            json_response = json.loads(raw_response)  \n",
    "            f.write(json.dumps(json_response['response']['body']['choices'][0]['message'],ensure_ascii=False) +'\\n' )\n",
    "            # formatted_json = json.dumps(json_response, indent=2)  \n",
    "            # print(formatted_json.keys())\n",
    "            # break"
   ]
  },
  {
   "cell_type": "code",
   "execution_count": null,
   "id": "63d530d1-12ef-4259-a7c6-379114100971",
   "metadata": {},
   "outputs": [],
   "source": []
  },
  {
   "cell_type": "code",
   "execution_count": 91,
   "id": "a2b2349f-7b89-4add-90dc-8f27eb34243c",
   "metadata": {},
   "outputs": [],
   "source": [
    "import seaborn as sns"
   ]
  },
  {
   "cell_type": "code",
   "execution_count": 98,
   "id": "436d309e-0898-41fe-abb1-aa3516b2f43a",
   "metadata": {},
   "outputs": [
    {
     "ename": "KeyError",
     "evalue": "'content'",
     "output_type": "error",
     "traceback": [
      "\u001b[0;31m---------------------------------------------------------------------------\u001b[0m",
      "\u001b[0;31mKeyError\u001b[0m                                  Traceback (most recent call last)",
      "Cell \u001b[0;32mIn[98], line 1\u001b[0m\n\u001b[0;32m----> 1\u001b[0m sns\u001b[38;5;241m.\u001b[39mhistplot([\u001b[38;5;28mlen\u001b[39m(json\u001b[38;5;241m.\u001b[39mloads(raw_response)[\u001b[38;5;124m'\u001b[39m\u001b[38;5;124mresponse\u001b[39m\u001b[38;5;124m'\u001b[39m][\u001b[38;5;124m'\u001b[39m\u001b[38;5;124mbody\u001b[39m\u001b[38;5;124m'\u001b[39m][\u001b[38;5;124m'\u001b[39m\u001b[38;5;124mchoices\u001b[39m\u001b[38;5;124m'\u001b[39m][\u001b[38;5;241m0\u001b[39m][\u001b[38;5;124m'\u001b[39m\u001b[38;5;124mmessage\u001b[39m\u001b[38;5;124m'\u001b[39m][\u001b[38;5;124m\"\u001b[39m\u001b[38;5;124mcontent\u001b[39m\u001b[38;5;124m\"\u001b[39m]) \u001b[38;5;28;01mfor\u001b[39;00m raw_response \u001b[38;5;129;01min\u001b[39;00m raw_responses])\n",
      "\u001b[0;31mKeyError\u001b[0m: 'content'"
     ]
    }
   ],
   "source": [
    "sns.histplot([len(json.loads(raw_response)['response']['body']['choices'][0]['message'][\"content\"]) for raw_response in raw_responses])"
   ]
  },
  {
   "cell_type": "code",
   "execution_count": 52,
   "id": "8f418e77-b2c3-4472-bee5-613df7e0b5d9",
   "metadata": {},
   "outputs": [],
   "source": [
    "tmp = [len(json.loads(raw_response)['response']['body']['choices'][0]['message'][\"content\"]) for raw_response in raw_responses]"
   ]
  },
  {
   "cell_type": "code",
   "execution_count": 53,
   "id": "d797e9ad-ed51-4280-9d75-a0f92316676a",
   "metadata": {},
   "outputs": [
    {
     "data": {
      "text/plain": [
       "466"
      ]
     },
     "execution_count": 53,
     "metadata": {},
     "output_type": "execute_result"
    }
   ],
   "source": [
    "tmp.index(max(tmp))"
   ]
  },
  {
   "cell_type": "code",
   "execution_count": 101,
   "id": "a78d2d2c-8e69-4b6b-9cc0-d07363d40d62",
   "metadata": {},
   "outputs": [],
   "source": [
    "data_len = []\n",
    "\n",
    "for rp in raw_responses:\n",
    "    try:\n",
    "        data_len.append(len(json.loads(rp)['response']['body']['choices'][0]['message'][\"content\"]) )\n",
    "    except:\n",
    "        pass"
   ]
  },
  {
   "cell_type": "code",
   "execution_count": 102,
   "id": "f46a5240-55a4-43d3-a914-9e6274d49287",
   "metadata": {},
   "outputs": [
    {
     "data": {
      "text/plain": [
       "<Axes: ylabel='Count'>"
      ]
     },
     "execution_count": 102,
     "metadata": {},
     "output_type": "execute_result"
    },
    {
     "data": {
      "image/png": "[encoded data removed]",
      "text/plain": [
       "<Figure size 640x480 with 1 Axes>"
      ]
     },
     "metadata": {},
     "output_type": "display_data"
    }
   ],
   "source": [
    "sns.histplot(data_len)"
   ]
  },
  {
   "cell_type": "code",
   "execution_count": null,
   "id": "8dbdde6f-f574-436c-863e-c1990dfdc0ab",
   "metadata": {},
   "outputs": [],
   "source": []
  },
  {
   "cell_type": "code",
   "execution_count": 100,
   "id": "a3b62c77-148a-4dd7-be8e-9f2e24b9a7a2",
   "metadata": {},
   "outputs": [
    {
     "data": {
      "text/plain": [
       "{'url': 'https://tailieumoi.vn/cau-hoi/an-nam-cong-san-dang-ra-doi-8-1929-tu-su-phan-hoa-cua-a-dang-lap-hien-b-viet-nam-quoc-dan-dang-c-tan-680556.html',\n",
       " 'question': 'An Nam Cộng sản đảng ra đời (8 – 1929) từ sự phân hóa của:',\n",
       " 'choices': ['A. Đảng Lập hiến.',\n",
       "  'B. Việt Nam Quốc dân đảng.',\n",
       "  'C. Tân Việt Cách mạng đảng.',\n",
       "  'D. Hội Việt Nam Cách mạng Thanh niên.'],\n",
       " 'correct_choice': 'D. Hội Việt Nam Cách mạng Thanh niên.',\n",
       " 'reason': 'An Nam Cộng sản đảng ra đời (8 – 1929) từ sự phân hóa của Hội Việt Nam\\nCách mạng Thanh niên.\\n\\nChọn D.'}"
      ]
     },
     "execution_count": 100,
     "metadata": {},
     "output_type": "execute_result"
    }
   ],
   "source": [
    "data[740]"
   ]
  },
  {
   "cell_type": "code",
   "execution_count": null,
   "id": "2ee4916a-167e-4ca3-944a-d1998a11abf5",
   "metadata": {},
   "outputs": [],
   "source": []
  }
 ],
 "metadata": {
  "kernelspec": {
   "display_name": "Python 3 (ipykernel)",
   "language": "python",
   "name": "python3"
  },
  "language_info": {
   "codemirror_mode": {
    "name": "ipython",
    "version": 3
   },
   "file_extension": ".py",
   "mimetype": "text/x-python",
   "name": "python",
   "nbconvert_exporter": "python",
   "pygments_lexer": "ipython3",
   "version": "3.12.2"
  }
 },
 "nbformat": 4,
 "nbformat_minor": 5
}
