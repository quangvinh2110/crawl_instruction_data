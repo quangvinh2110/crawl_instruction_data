{
 "cells": [
  {
   "cell_type": "code",
   "execution_count": 9,
   "metadata": {},
   "outputs": [],
   "source": [
    "import re"
   ]
  },
  {
   "cell_type": "code",
   "execution_count": 14,
   "metadata": {},
   "outputs": [],
   "source": [
    "answer_text = \"\"\"\n",
    "Duy trì hòa bình và an ninh thế giới\" là mục đích hoạt động của tổ chức Liên hợp quốc (UN). Chọn B. Lý thuyết Mục tiêu của Liên hợp quốc: - Duy trì hoà bình và an ninh quốc tế; - Thúc đẩy quan hệ hữu nghị giữa các dân tộc trên cơ sở tôn trọng quyền bình đẳng, quyền tự quyết dân tộc và củng cố hoà bình thế giới; - Thúc đẩy hợp tác quốc tế để giải quyết các vấn đề kinh tế, xã hội, văn hoá, nhân đạo, đảm bảo quyền con người và quyền tự do cơ bản cho mọi người không phân biệt chủng tộc, giới tính, tôn giáo, ngôn ngữ; - Liên hợp quốc đóng vai trò là trung tâm điều hoà các nỗ lực quốc tế vì những mục tiêu trên. Lưu ý: Trong số các mục tiêu của Liên hợp quốc, mục tiêu duy trì hoà bình và an ninh quốc tế được chú trọng và là cơ sở để thực hiện các mục tiêu khác. Xem thêm một số kiến thức liên quan: 20 câu Trắc nghiệm Lịch sử 12 Bài 1 (Kết nối tri thức) có đáp án: Liên hợp quốc Giải SGK Lịch sử 12 Bài 1 (Kết nối tri thức): Liên hợp quốc\n",
    "\"\"\".strip()"
   ]
  },
  {
   "cell_type": "code",
   "execution_count": 16,
   "metadata": {},
   "outputs": [
    {
     "data": {
      "text/plain": [
       "3"
      ]
     },
     "execution_count": 16,
     "metadata": {},
     "output_type": "execute_result"
    }
   ],
   "source": [
    "3500//1000"
   ]
  },
  {
   "cell_type": "code",
   "execution_count": 15,
   "metadata": {},
   "outputs": [
    {
     "data": {
      "text/plain": [
       "941"
      ]
     },
     "execution_count": 15,
     "metadata": {},
     "output_type": "execute_result"
    }
   ],
   "source": [
    "len(answer_text)"
   ]
  },
  {
   "cell_type": "code",
   "execution_count": 13,
   "metadata": {},
   "outputs": [
    {
     "data": {
      "text/plain": [
       "'\\nNgành tài chính - ngân hàng có những đặc điểm sau:\\n- Bao gồm hai bộ phận liên kết chặt chẽ là tài chính và ngân hàng.\\n- Là một lĩnh vực rất rộng, bao gồm nhiều hoạt động khác nhau.\\n- Do tính rủi ro cao và có thể gây ra phản ứng dây chuyền trong hệ thống, các sản phẩm tài chính - ngân hàng thường được thực hiện theo các quy trình nghiêm ngặt.\\nTrong khi đó, đáp án B cho rằng nhu cầu của khách hàng đa dạng, phong phú và thường có tính thời vụ. Tuy nhiên, nhu cầu của khách hàng trong lĩnh vực này không nhất thiết có tính thời vụ, mà thường ổn định và liên tục. Do đó, đáp án B không phải là đặc điểm của ngành tài chính - ngân hàng.\\n\\nVì vậy, đáp án đúng là: B\\n'"
      ]
     },
     "execution_count": 13,
     "metadata": {},
     "output_type": "execute_result"
    }
   ],
   "source": [
    "re.sub(r\"\\\\boxed{(.+)}\", r\"\\1\", answer_text)"
   ]
  },
  {
   "cell_type": "code",
   "execution_count": 8,
   "metadata": {},
   "outputs": [
    {
     "name": "stdout",
     "output_type": "stream",
     "text": [
      "\n",
      "Provide a Vietnamese first-reasoning-then-conclusion answer for the following question. Return your final choice inside \\boxed{}.\n",
      "\n",
      "Example:\n",
      "Question: Ngành tài chính - ngân hàng không có đặc điểm nào sau đây?\n",
      "A. Tài chính ngân hàng là một lĩnh vực rất rộng và nhiều hoạt động.\n",
      "B. Nhu cầu của khách đa dạng, phong phú và thường có tính thời vụ.\n",
      "C. Sản phẩm thường được thực hiện theo các quy trình nghiêm ngặt.\n",
      "D. Gồm hai bộ phận khăng khít với nhau là tài chính và ngân hàng.\n",
      "\n",
      "Answer: Ngành tài chính - ngân hàng có những đặc điểm sau:\n",
      "- Bao gồm hai bộ phận liên kết chặt chẽ là tài chính và ngân hàng.\n",
      "- Là một lĩnh vực rất rộng, bao gồm nhiều hoạt động khác nhau.\n",
      "- Do tính rủi ro cao và có thể gây ra phản ứng dây chuyền trong hệ thống, các sản phẩm tài chính - ngân hàng thường được thực hiện theo các quy trình nghiêm ngặt.\n",
      "Trong khi đó, đáp án B cho rằng nhu cầu của khách hàng đa dạng, phong phú và thường có tính thời vụ. Tuy nhiên, nhu cầu của khách hàng trong lĩnh vực này không nhất thiết có tính thời vụ, mà thường ổn định và liên tục. Do đó, đáp án B không phải là đặc điểm của ngành tài chính - ngân hàng.\n",
      "\n",
      "Vì vậy, đáp án đúng là: \\boxed{B}\n",
      "\n",
      "---\n",
      "Question: \n",
      "\n",
      "Answer:\n",
      "\n"
     ]
    }
   ],
   "source": [
    "print(\n",
    "    \"\"\"\n",
    "Provide a Vietnamese first-reasoning-then-conclusion answer for the following question. Return your final choice inside \\\\boxed{{}}.\n",
    "\n",
    "Example:\n",
    "Question: Ngành tài chính - ngân hàng không có đặc điểm nào sau đây?\n",
    "A. Tài chính ngân hàng là một lĩnh vực rất rộng và nhiều hoạt động.\n",
    "B. Nhu cầu của khách đa dạng, phong phú và thường có tính thời vụ.\n",
    "C. Sản phẩm thường được thực hiện theo các quy trình nghiêm ngặt.\n",
    "D. Gồm hai bộ phận khăng khít với nhau là tài chính và ngân hàng.\n",
    "\n",
    "Answer: Ngành tài chính - ngân hàng có những đặc điểm sau:\n",
    "- Bao gồm hai bộ phận liên kết chặt chẽ là tài chính và ngân hàng.\n",
    "- Là một lĩnh vực rất rộng, bao gồm nhiều hoạt động khác nhau.\n",
    "- Do tính rủi ro cao và có thể gây ra phản ứng dây chuyền trong hệ thống, các sản phẩm tài chính - ngân hàng thường được thực hiện theo các quy trình nghiêm ngặt.\n",
    "Trong khi đó, đáp án B cho rằng nhu cầu của khách hàng đa dạng, phong phú và thường có tính thời vụ. Tuy nhiên, nhu cầu của khách hàng trong lĩnh vực này không nhất thiết có tính thời vụ, mà thường ổn định và liên tục. Do đó, đáp án B không phải là đặc điểm của ngành tài chính - ngân hàng.\n",
    "\n",
    "Vì vậy, đáp án đúng là: \\\\boxed{{B}}\n",
    "\n",
    "---\n",
    "Question: {question}\n",
    "\n",
    "Answer:\n",
    "\"\"\".format(question=\"\")\n",
    ")"
   ]
  },
  {
   "cell_type": "code",
   "execution_count": 6,
   "metadata": {},
   "outputs": [
    {
     "name": "stdout",
     "output_type": "stream",
     "text": [
      "Trận bóng đá giữa câu lạc bộ Mô-na-cô và câu lạc bộ Pa-ri Xanh Giéc-maằm trong khuôn khổ vòng 18 giải Vô địch Quốc gia Pháp được tường thuậrực tiếp vào lúc 2 giờ 45 phút ngày 13-12-2021 (theo giờ Việt Nam). Hãính và điền vào bảng theo mẫu sau thời gian để xem trực tiếp trận bónrên tại các địa điểm khác nhau.\n",
      "|          |               |          |          |          |         |            |\n",
      "|----------|---------------|----------|----------|----------|---------|------------|\n",
      "| Địa điểm | Hà Nội        | Niu-Yooc | Bắc Kinh | Luân Đôn | Tô-ky-ô | Mát-xcơ-va |\n",
      "| Múi giờ  | 7             | -5       | 8        | 0        | 9       | 3          |\n",
      "| Giờ      | 2 giờ 45 phút |          |          |          |         |            |\n",
      "| Ngày     | 13/12/2021    |          |          |          |         |            |\n"
     ]
    }
   ],
   "source": [
    "print(normalize_newline(\"\"\"\n",
    "Trận bóng đá giữa câu lạc bộ Mô-na-cô và câu lạc bộ Pa-ri Xanh Giéc-man\n",
    "nằm trong khuôn khổ vòng 18 giải Vô địch Quốc gia Pháp được tường thuật\n",
    "trực tiếp vào lúc 2 giờ 45 phút ngày 13-12-2021 (theo giờ Việt Nam). Hãy\n",
    "tính và điền vào bảng theo mẫu sau thời gian để xem trực tiếp trận bóng\n",
    "trên tại các địa điểm khác nhau.\n",
    "\n",
    "|          |               |          |          |          |         |            |\n",
    "|----------|---------------|----------|----------|----------|---------|------------|\n",
    "| Địa điểm | Hà Nội        | Niu-Yooc | Bắc Kinh | Luân Đôn | Tô-ky-ô | Mát-xcơ-va |\n",
    "| Múi giờ  | 7             | -5       | 8        | 0        | 9       | 3          |\n",
    "| Giờ      | 2 giờ 45 phút |          |          |          |         |            |\n",
    "| Ngày     | 13/12/2021    |          |          |          |         |            |\n",
    "\"\"\"))"
   ]
  },
  {
   "cell_type": "code",
   "execution_count": null,
   "metadata": {},
   "outputs": [],
   "source": [
    "\"\"\"\n",
    "Bạn sẽ được cung cấp một câu hỏi, các lựa chọn (nếu có), và một câu trả lời ngắn gọn. Nhiệm vụ của bạn là viết lại câu trả lời này sao cho chi tiết và đầy đủ hơn. Hãy đảm bảo rằng câu trả lời mở rộng phải bao gồm các lập luận, phân tích hoặc giải thích rõ ràng để làm sáng tỏ lý do tại sao đây là đáp án đúng. Nếu câu hỏi là trắc nghiệm, hãy phân tích từng lựa chọn và giải thích vì sao lựa chọn đúng là chính xác, đồng thời nêu rõ vì sao các lựa chọn khác không đúng. Nếu câu hỏi không phải trắc nghiệm, hãy cung cấp thêm thông tin nền hoặc các bước suy luận dẫn đến kết luận.\n",
    "\"\"\""
   ]
  }
 ],
 "metadata": {
  "kernelspec": {
   "display_name": "base",
   "language": "python",
   "name": "python3"
  },
  "language_info": {
   "codemirror_mode": {
    "name": "ipython",
    "version": 3
   },
   "file_extension": ".py",
   "mimetype": "text/x-python",
   "name": "python",
   "nbconvert_exporter": "python",
   "pygments_lexer": "ipython3",
   "version": "3.11.4"
  }
 },
 "nbformat": 4,
 "nbformat_minor": 2
}
