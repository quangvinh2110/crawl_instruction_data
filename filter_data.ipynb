{
 "cells": [
  {
   "cell_type": "code",
   "execution_count": 1,
   "metadata": {},
   "outputs": [],
   "source": [
    "import json"
   ]
  },
  {
   "cell_type": "code",
   "execution_count": 2,
   "metadata": {},
   "outputs": [],
   "source": [
    "data = []\n",
    "with open(\"./data/processed_questions/all_social_subjects_117k.jsonl\") as f:\n",
    "    data = [json.loads(line) for line in f]"
   ]
  },
  {
   "cell_type": "code",
   "execution_count": 3,
   "metadata": {},
   "outputs": [
    {
     "data": {
      "text/plain": [
       "{'messages': [{'role': 'user',\n",
       "   'content': '\"Duy trì hòa bình và an ninh thế giới\" là mục đích hoạt động của tổ chứào dưới đây?A.\\xa0Liên minh châu Âu (EU).\\nB.\\xa0Liên hợp quốc (UN).\\nC.\\xa0Hiệp ước Đông Nam Á (SEATO).\\nD.\\xa0Hiệp hội các quốc gia Đông Nam Á (ASEAN).'},\n",
       "  {'role': 'assistant',\n",
       "   'content': 'Liên hợp quốc (UN) được thành lập với các mục tiêu chính sau:\\n- Duy trì hòa bình và an ninh quốc tế.\\n- Thúc đẩy quan hệ hữu nghị giữa các dân tộc trên cơ sở tôn trọng quyền bình đẳng và quyền tự quyết của dân tộc, từ đó củng cố hòa bình thế giới.\\n- Thúc đẩy hợp tác quốc tế trong việc giải quyết các vấn đề kinh tế, xã hội, văn hóa, nhân đạo, đảm bảo quyền con người và các quyền tự do cơ bản cho tất cả mọi người, không phân biệt chủng tộc, giới tính, tôn giáo hay ngôn ngữ.\\n- Đóng vai trò là trung tâm điều hòa các nỗ lực quốc tế nhằm đạt được các mục tiêu trên.\\nTrong số các mục tiêu này, việc duy trì hòa bình và an ninh quốc tế được coi là mục tiêu quan trọng nhất và là nền tảng để thực hiện các mục tiêu khác. Các tổ chức khác như Liên minh châu Âu (EU), Hiệp ước Đông Nam Á (SEATO) và Hiệp hội các quốc gia Đông Nam Á (ASEAN) có những mục tiêu riêng, nhưng không tập trung trực tiếp vào việc duy trì hòa bình và an ninh thế giới như Liên hợp quốc.\\nVì vậy, đáp án đúng là: B. Liên hợp quốc (UN).'}]}"
      ]
     },
     "execution_count": 3,
     "metadata": {},
     "output_type": "execute_result"
    }
   ],
   "source": [
    "data[0]"
   ]
  },
  {
   "cell_type": "code",
   "execution_count": null,
   "metadata": {},
   "outputs": [],
   "source": []
  }
 ],
 "metadata": {
  "kernelspec": {
   "display_name": "base",
   "language": "python",
   "name": "python3"
  },
  "language_info": {
   "codemirror_mode": {
    "name": "ipython",
    "version": 3
   },
   "file_extension": ".py",
   "mimetype": "text/x-python",
   "name": "python",
   "nbconvert_exporter": "python",
   "pygments_lexer": "ipython3",
   "version": "3.11.4"
  }
 },
 "nbformat": 4,
 "nbformat_minor": 2
}
